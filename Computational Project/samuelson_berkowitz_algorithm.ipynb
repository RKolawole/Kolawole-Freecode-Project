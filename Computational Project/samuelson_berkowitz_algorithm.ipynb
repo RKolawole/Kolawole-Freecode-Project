{
 "cells": [
  {
   "cell_type": "markdown",
   "metadata": {},
   "source": [
    "<h1> Razak Olamide, KOLAWOLE"
   ]
  },
  {
   "cell_type": "markdown",
   "metadata": {},
   "source": [
    "<h1 style=\"color:blue\"><strong> Samuelson Berkowitz algorithm"
   ]
  },
  {
   "cell_type": "markdown",
   "metadata": {},
   "source": [
    "Samuelson Berkowitz algorithm is a divison-free algorithm for\n",
    "obtaining the characteristics polynomial and the determinant of square matrices\n",
    "whose coefficients are in a commutative ring which is not an integral domain\n",
    "\n",
    "* Toeplitz matrix is a very useful tool in this algorithm, so we first define a function that calculate the Toeplitz matrix of any square matrix which we would like to obtain its determinant and characteristics polynomial\n",
    "\n",
    "* The advantage of Samuelson Berkowitz algorithm is that it can be used even when our domain of interest is not a field\n",
    "\n",
    "For more info on this method check this book by Przemysław Koprowski: [lcm](http://www.pkoprowski.eu/lcm/lcm.pdf)"
   ]
  },
  {
   "cell_type": "markdown",
   "metadata": {},
   "source": [
    "![purple-divider](https://user-images.githubusercontent.com/7065401/52071927-c1cd7100-2562-11e9-908a-dde91ba14e59.png)"
   ]
  },
  {
   "cell_type": "code",
   "execution_count": 38,
   "metadata": {},
   "outputs": [
    {
     "data": {
      "text/plain": [
       "[  6  -9 -21]\n",
       "[  1   6  -9]\n",
       "[  0   1   6]\n",
       "[  0   0   1]"
      ]
     },
     "execution_count": 38,
     "metadata": {},
     "output_type": "execute_result"
    }
   ],
   "source": [
    "def toeplitz_matrix(M, k):\n",
    "    # M_k is the kxk principal submatrix of M\n",
    "    M_k = M.submatrix(0, 0, k, k)\n",
    "    R_k = M[k, :k]  # Row vector below M_k\n",
    "    C_k = M[:k, k]  # Column vector to the right of M_k\n",
    "    m_kk = M[k, k]  # The element m_{k+1, k+1}\n",
    "    \n",
    "    # Initialize the Toeplitz matrix with -m_kk on the diagonal\n",
    "    T_k = matrix(SR, k+2, k+1, lambda i, j: -m_kk if i == j else 0)\n",
    "    \n",
    "    # The first sub-diagonal is set to 1\n",
    "    for i in [1, .., k+1]:\n",
    "        T_k[i, i-1] = 1\n",
    "    \n",
    "    # Calculate the upper diagonal elements in T_k\n",
    "    for i in [0, .., k]:  # loop over rows in T_k\n",
    "        for j in [i+1, .., k]:  # loop over columns above the diagonal\n",
    "            if j > i:\n",
    "                # Calculate M_k to the power (j-i-1)\n",
    "                if j-i-1 == 0:\n",
    "                    M_k_i = matrix.identity(k)  # (M_k)^0 is the identity matrix\n",
    "                else:\n",
    "                    M_k_i = M_k^(j-i-1)  # M_k raised to the power (j-i-1)\n",
    "                \n",
    "                # Calculate -R_k * M_k_i * C_k for the respective entry and ensure scalar output\n",
    "                tk = -R_k * M_k_i * vector(C_k)\n",
    "                T_k[i, j] = tk[0]  # Extract the scalar value from the 1x1 matrix/product\n",
    "                \n",
    "    return T_k\n",
    "M=matrix(ZZ, [[2,1,3],[5,-7,1],[3,0,-6]])\n",
    "toeplitz_matrix(M, 2)\n"
   ]
  },
  {
   "cell_type": "code",
   "execution_count": 40,
   "metadata": {},
   "outputs": [
    {
     "data": {
      "text/html": [
       "<html>\\(\\displaystyle \\verb|The|\\verb| |\\verb|determinant:| 1\\)</html>"
      ],
      "text/latex": [
       "$\\displaystyle \\verb|The|\\verb| |\\verb|determinant:| 1$"
      ],
      "text/plain": [
       "'The determinant:' 1"
      ]
     },
     "metadata": {},
     "output_type": "display_data"
    },
    {
     "data": {
      "text/html": [
       "<html>\\(\\displaystyle Characteristics Polynomial:  x^{3} - 3x^{2} + 3x - 1\\)</html>"
      ],
      "text/latex": [
       "$\\displaystyle Characteristics Polynomial:  x^{3} - 3x^{2} + 3x - 1$"
      ],
      "text/plain": [
       "Characteristics Polynomial:  x^3 - 3*x^2 + 3*x - 1"
      ]
     },
     "metadata": {},
     "output_type": "display_data"
    }
   ],
   "source": [
    "def Samuelson_Berkowitz(M):\n",
    "    n = M.ncols()\n",
    "    v = [-M[0][0], 1]\n",
    "    V = matrix(SR, 2, 1, v)\n",
    "    v_vectors = []\n",
    "    for k in [1, .., n-1]:\n",
    "        t_k = toeplitz_matrix(M, k)\n",
    "        V1 = t_k * V  # Multiply current Toeplitz matrix by current vector V    \n",
    "        # Update V to new V1\n",
    "        V = V1 \n",
    "        v_vectors.append(V)\n",
    "        tk_matrices = r\"T_{} = \".format(k)\n",
    "        #show(LatexExpr(tk_matrices), t_k)\n",
    "    \n",
    "    \n",
    "    P.<x> = ZZ[]\n",
    "    S = list(vector(v_vectors[-1]))[::-1]\n",
    "    char_poly = (-1)^n * P(S)\n",
    "    determinant = (-1)^n * S[-1]\n",
    "    return determinant, char_poly\n",
    "\n",
    "\n",
    "# Define the matrix\n",
    "M = matrix(SR, [[1, 0, 0], [0, 1, 0], [0, 0, 1]])\n",
    "determinant, char_poly = Samuelson_Berkowitz(M)\n",
    "show('The determinant:', determinant)\n",
    "ola = r\"Characteristics Polynomial: \"\n",
    "show(LatexExpr(ola), char_poly)"
   ]
  },
  {
   "cell_type": "markdown",
   "metadata": {},
   "source": [
    "![green-divider](https://user-images.githubusercontent.com/7065401/52071924-c003ad80-2562-11e9-8297-1c6595f8a7ff.png)\n"
   ]
  },
  {
   "cell_type": "code",
   "execution_count": 3,
   "metadata": {},
   "outputs": [
    {
     "data": {
      "text/html": [
       "<html>\\(\\displaystyle \\verb|The|\\verb| |\\verb|determinant:| 180\\)</html>"
      ],
      "text/latex": [
       "$\\displaystyle \\verb|The|\\verb| |\\verb|determinant:| 180$"
      ],
      "text/plain": [
       "'The determinant:' 180"
      ]
     },
     "metadata": {},
     "output_type": "display_data"
    },
    {
     "data": {
      "text/html": [
       "<html>\\(\\displaystyle Characteristics Polynomial:  180x^{3} - 2x^{2} - 11x - 1\\)</html>"
      ],
      "text/latex": [
       "$\\displaystyle Characteristics Polynomial:  180x^{3} - 2x^{2} - 11x - 1$"
      ],
      "text/plain": [
       "Characteristics Polynomial:  180*x^3 - 2*x^2 - 11*x - 1"
      ]
     },
     "metadata": {},
     "output_type": "display_data"
    }
   ],
   "source": [
    "M=matrix(ZZ, [[2,1,3],[5,-7,1],[3,0,-6]])\n",
    "determinant, char_poly = Samuelson_Berkowitz(M)\n",
    "show('The determinant:', determinant)\n",
    "ola = r\"Characteristics Polynomial: \"\n",
    "show(LatexExpr(ola), char_poly)"
   ]
  },
  {
   "cell_type": "markdown",
   "metadata": {},
   "source": [
    "<h1 style=\"color:blue\"><strong> Comparing our result with the result of the in-buit function"
   ]
  },
  {
   "cell_type": "code",
   "execution_count": 4,
   "metadata": {},
   "outputs": [
    {
     "data": {
      "text/html": [
       "<html>\\(\\displaystyle 180x^{3} - 2x^{2} - 11x - 1\\)</html>"
      ],
      "text/latex": [
       "$\\displaystyle 180x^{3} - 2x^{2} - 11x - 1$"
      ],
      "text/plain": [
       "180*x^3 - 2*x^2 - 11*x - 1"
      ]
     },
     "metadata": {},
     "output_type": "display_data"
    },
    {
     "data": {
      "text/html": [
       "<html>\\(\\displaystyle x^{3} + 11x^{2} + 2x - 180\\)</html>"
      ],
      "text/latex": [
       "$\\displaystyle x^{3} + 11x^{2} + 2x - 180$"
      ],
      "text/plain": [
       "x^3 + 11*x^2 + 2*x - 180"
      ]
     },
     "metadata": {},
     "output_type": "display_data"
    },
    {
     "data": {
      "text/plain": [
       "True"
      ]
     },
     "execution_count": 4,
     "metadata": {},
     "output_type": "execute_result"
    }
   ],
   "source": [
    "show(char_poly) == show(M.charpoly())"
   ]
  },
  {
   "cell_type": "code",
   "execution_count": 5,
   "metadata": {},
   "outputs": [
    {
     "data": {
      "text/plain": [
       "180 == 180"
      ]
     },
     "execution_count": 5,
     "metadata": {},
     "output_type": "execute_result"
    }
   ],
   "source": [
    "determinant == M.det()"
   ]
  },
  {
   "cell_type": "markdown",
   "metadata": {},
   "source": [
    "<h1 style=\"color:blue\"><strong> Thank you so much"
   ]
  },
  {
   "cell_type": "markdown",
   "metadata": {},
   "source": [
    "![purple-divider](https://user-images.githubusercontent.com/7065401/52071927-c1cd7100-2562-11e9-908a-dde91ba14e59.png)"
   ]
  },
  {
   "cell_type": "code",
   "execution_count": 36,
   "metadata": {},
   "outputs": [
    {
     "data": {
      "text/plain": [
       "3*x^2 + 2*x + 1"
      ]
     },
     "execution_count": 36,
     "metadata": {},
     "output_type": "execute_result"
    }
   ],
   "source": [
    "P.<x>=ZZ[]\n",
    "P([1,2,3])"
   ]
  },
  {
   "cell_type": "code",
   "execution_count": null,
   "metadata": {},
   "outputs": [],
   "source": []
  }
 ],
 "metadata": {
  "kernelspec": {
   "display_name": "SageMath 10.0",
   "language": "sage",
   "name": "sagemath-10.0"
  },
  "language_info": {
   "codemirror_mode": {
    "name": "ipython",
    "version": 3
   },
   "file_extension": ".py",
   "mimetype": "text/x-python",
   "name": "python",
   "nbconvert_exporter": "python",
   "pygments_lexer": "ipython3",
   "version": "3.11.1"
  }
 },
 "nbformat": 4,
 "nbformat_minor": 4
}
