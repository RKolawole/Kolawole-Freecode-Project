{
 "cells": [
  {
   "cell_type": "markdown",
   "metadata": {},
   "source": [
    "<h1> Razak Olamide, KOLAWOLE"
   ]
  },
  {
   "cell_type": "markdown",
   "metadata": {},
   "source": [
    "This project consider two algorithms, first, a modular computation algorithm for calculating the determinant of square matrices with integers coefficients.\n",
    "\n",
    "The second, a divison-free algorithm for obtaining the characteristics polynomial and the determinant of square matrices whose coefficients are in a unital commutative ring $\\mathcal{R}$ which is not an integral domain. "
   ]
  },
  {
   "cell_type": "markdown",
   "metadata": {},
   "source": [
    "<h1 style=\"color:blue\"><strong> Modular Computation Algorithm\n",
    "    "
   ]
  },
  {
   "cell_type": "markdown",
   "metadata": {},
   "source": [
    "![purple-divider](https://user-images.githubusercontent.com/7065401/52071927-c1cd7100-2562-11e9-908a-dde91ba14e59.png)"
   ]
  },
  {
   "cell_type": "markdown",
   "metadata": {},
   "source": [
    "\n",
    "Modular computation algorithm is a method centred around the methods of\n",
    "division-free algorithm and fast algorithm like Gaussian elimination method.\n",
    "\n",
    "For more info on this method check this book by Przemysław Koprowski: [lcm](http://www.pkoprowski.eu/lcm/lcm.pdf)"
   ]
  },
  {
   "cell_type": "markdown",
   "metadata": {},
   "source": [
    "This method compute the determinant of integral matrices using the following\n",
    "1. We define a function for finding the determinants of a matrix\\\n",
    "   a. Guassian elimination method (GEM)  (This steps require first changing the domain to field of rational)\\\n",
    "   b. Expansion method\n",
    "2. We define a function for solving linear congruence equation (Chinese remainder theorem)\n",
    "\n",
    "3. Finally, we define the main function\n",
    "* One of the key steps in this function is casting the result from step 2 into field of       rationals, this is because GEM only works with field of rational\n",
    "   \n",
    "\n",
    "<p style=\"color:red\"><strong> It is worth stating that our algorithm only works on matrices with integer coefficients"
   ]
  },
  {
   "cell_type": "markdown",
   "metadata": {},
   "source": [
    "![green-divider](https://user-images.githubusercontent.com/7065401/52071924-c003ad80-2562-11e9-8297-1c6595f8a7ff.png)"
   ]
  },
  {
   "cell_type": "markdown",
   "metadata": {},
   "source": [
    "<h1 style=\"color:blue\"><strong> We compute using Gaussian Elimination method "
   ]
  },
  {
   "cell_type": "code",
   "execution_count": 57,
   "metadata": {},
   "outputs": [],
   "source": [
    "def gaussian_elimination_det(matrix):\n",
    "    \"\"\"\n",
    "    Compute the determinant of a matrix using GEM.\n",
    "\n",
    "    Parameters:\n",
    "        - M: Square matrix whose coefficents are in QQ\n",
    "\n",
    "    Returns:\n",
    "         Determinant of matrice\n",
    "    \"\"\"\n",
    "    m = matrix.nrows()\n",
    "    n = matrix.ncols()\n",
    "    A = Matrix(matrix) # Make a copy of the matrix to avoid modifying the original\n",
    "    # Initialize determinant to 1\n",
    "    det = 1\n",
    "    # Forward Elimination\n",
    "    for i in range(min(m, n)):\n",
    "        # Find pivot row\n",
    "        pivot_row = i\n",
    "        for k in range(i + 1, m):\n",
    "            if abs(A[k, i]) > abs(A[pivot_row, i]):\n",
    "                pivot_row = k\n",
    "        if A[pivot_row, i] == 0:\n",
    "            return 0  # If a pivot is zero, determinant is zero\n",
    "        if pivot_row != i:\n",
    "            # Swap rows if necessary\n",
    "            A.swap_rows(i, pivot_row)\n",
    "            # Swap changes sign of determinant\n",
    "            det = -det\n",
    "        det *= A[i, i]  # Multiply determinant by pivot\n",
    "        # Eliminate elements below the pivot\n",
    "        for k in range(i + 1, m):\n",
    "            factor = A[k, i] / A[i, i]\n",
    "            for j in range(i, n):\n",
    "                A[k, j] -= factor * A[i, j]\n",
    "    return det\n",
    " \n"
   ]
  },
  {
   "cell_type": "code",
   "execution_count": 58,
   "metadata": {},
   "outputs": [],
   "source": [
    "\n",
    "def chinese_remainder_theorem(a, n):\n",
    "    \"\"\"\n",
    "    Chinese Remainder Theorem algorithm to find x such that x ≡ a_i (mod n_i) for all i.\n",
    "\n",
    "    Parameters:\n",
    "        - a: List of remainders a_i\n",
    "        - n: List of moduli n_i\n",
    "\n",
    "    Returns:\n",
    "        - x: The solution modulo the product of all moduli\n",
    "    \"\"\"\n",
    "    N = prod(n)  # Calculate the product of all moduli\n",
    "    x = 0\n",
    "    for ai, ni in zip(a, n):\n",
    "        Ni = N // ni  # Compute N_i = N / n_i\n",
    "        x += ai * Ni * inverse_mod(Ni, ni)  # Compute the sum of a_i * N_i * inverse_mod(N_i, n_i)\n",
    "    return x % N  # Return the solution modulo the product of all moduli\n",
    "\n",
    "\n"
   ]
  },
  {
   "cell_type": "code",
   "execution_count": 59,
   "metadata": {},
   "outputs": [],
   "source": [
    "def modular_algorithm_for_determinant(M):\n",
    "    \"\"\"\n",
    "    Compute the determinant of a matrix using modular arithmetic.\n",
    "\n",
    "    Parameters:\n",
    "        - M: Square matrix\n",
    "\n",
    "    Returns:\n",
    "        - det_mod: Determinant modulo the product of primes\n",
    "    \"\"\"\n",
    "    for i in range(M.nrows()):\n",
    "        for j in range(M.ncols()):\n",
    "            assert M[i, j] in ZZ   # matrix coefficient must be integers\n",
    "    n = M.nrows()       #number of rows of the determinants\n",
    "    # Step 1: Find the Hadamard bound C and set the necessary condition on it\n",
    "    C = max([abs(M[i, j]) for i in range(n) for j in range(n)])  \n",
    "    Hadamard_bound = 2 * C^n * sqrt(n^n) # twice the Hadamard bound\n",
    "# Step 2: Find odd primes p1, ..., pk\n",
    "    primes = [p for p in range(2, ceil(Hadamard_bound)) if is_prime(p)]  \n",
    "    product_of_primes = prod(primes)\n",
    "    product_of_primes > Hadamard_bound\n",
    "    if len(primes)%2==0:\n",
    "        primes.append(next_prime(primes[-1]))\n",
    "        product_of_primes = prod(primes)\n",
    "# Step 3: Compute determinants mod pi using GEM \n",
    "    d1 = [Matrix(M).apply_map(lambda x: x % p) for p in primes]  \n",
    "    d2 =[l.apply_map(lambda x: QQ(x)) for l in d1 ] # change the Domain of interest to rational\n",
    "    d = [gaussian_elimination_det(v) for v in d2]\n",
    "# Step 4: We use Chinese remainder theorem to obtain the solution of the systems obtained from step 3\n",
    "    det_mod = chinese_remainder_theorem(d, primes)  \n",
    "# Step 5: We compare the result obtained with our Hadamard bound\n",
    "    if det_mod > product_of_primes / 2:\n",
    "        det_mod = det_mod - product_of_primes\n",
    "    return det_mod\n",
    "\n"
   ]
  },
  {
   "cell_type": "markdown",
   "metadata": {},
   "source": [
    "<h1 style=\"color:blue\"><strong> Example 1"
   ]
  },
  {
   "cell_type": "code",
   "execution_count": 60,
   "metadata": {},
   "outputs": [
    {
     "name": "stdout",
     "output_type": "stream",
     "text": [
      "The result of the computation of dterminant using modular algorithm\n",
      "Determinant of M: -10\n",
      "CPU times: user 2 µs, sys: 0 ns, total: 2 µs\n",
      "Wall time: 4.77 µs\n"
     ]
    }
   ],
   "source": [
    "# Example usage\n",
    "M = Matrix([[3, 1, -2], [2, -3, -1], [1, 3, 0]])\n",
    "det_mod = modular_algorithm_for_determinant(M)\n",
    "print(\"The result of the computation of dterminant using modular algorithm\")\n",
    "print(\"Determinant of M:\", det_mod)\n",
    "%time"
   ]
  },
  {
   "cell_type": "markdown",
   "metadata": {},
   "source": [
    "<h1 style=\"color:blue\"><strong> Example 2"
   ]
  },
  {
   "cell_type": "code",
   "execution_count": 61,
   "metadata": {},
   "outputs": [
    {
     "name": "stdout",
     "output_type": "stream",
     "text": [
      "The result of the computation of dterminant using modular algorithm\n",
      "Determinant of M: 90\n"
     ]
    }
   ],
   "source": [
    "M=matrix([[9,2,1],[5,-1,6],[4,0,-2]])\n",
    "det_mod = modular_algorithm_for_determinant(M)\n",
    "print(\"The result of the computation of dterminant using modular algorithm\")\n",
    "print(\"Determinant of M:\", det_mod)"
   ]
  },
  {
   "cell_type": "markdown",
   "metadata": {},
   "source": [
    "<h1 style=\"color:blue\"><strong> Comparing our result with the result of the in-buit function"
   ]
  },
  {
   "cell_type": "code",
   "execution_count": 62,
   "metadata": {},
   "outputs": [
    {
     "data": {
      "text/plain": [
       "True"
      ]
     },
     "execution_count": 62,
     "metadata": {},
     "output_type": "execute_result"
    }
   ],
   "source": [
    "M.det()==det_mod"
   ]
  },
  {
   "cell_type": "markdown",
   "metadata": {},
   "source": [
    "<h1 style=\"color:blue\"><strong> Alternatively, we compute using expansion method "
   ]
  },
  {
   "cell_type": "markdown",
   "metadata": {},
   "source": [
    "![green-divider](https://user-images.githubusercontent.com/7065401/52071924-c003ad80-2562-11e9-8297-1c6595f8a7ff.png)\n"
   ]
  },
  {
   "cell_type": "code",
   "execution_count": 63,
   "metadata": {},
   "outputs": [],
   "source": [
    "def mydet(M):\n",
    "    \"\"\"\n",
    "    This function returns the determinant of a matrix M computed\n",
    "    recursively by expansion of the minors of the first column.\n",
    "    \n",
    "    \"\"\"\n",
    "    \n",
    "    if M.ncols() != M.nrows(): # Check that M is a square matrix\n",
    "        return \"Not a square matrix, so the determinant is impossible to compute.\"\n",
    "    else:\n",
    "        n = M.ncols()\n",
    "        if n == 1:\n",
    "            return M[0, 0] # determinant of a 1x1 matrix\n",
    "        else:\n",
    "            D = 0\n",
    "            for i in [0..n-1]:\n",
    "                # Extract the submatrix excluding the ith row and first column\n",
    "                N_rows = [j for j in [0..i-1]] + [j for j in [i+1..n-1]]\n",
    "                N_cols = [j for j in [1..n-1]]\n",
    "                N = M.matrix_from_rows_and_columns(N_rows, N_cols)\n",
    "                # Compute the determinant recursively\n",
    "                D += (-1)^i * M[i, 0] * mydet(N)\n",
    "            return D\n"
   ]
  },
  {
   "cell_type": "code",
   "execution_count": 64,
   "metadata": {},
   "outputs": [],
   "source": [
    "def modular_algorithm_for_determinant(M):\n",
    "    \"\"\"\n",
    "    Compute the determinant of a matrix using modular arithmetic.\n",
    "\n",
    "    Parameters:\n",
    "        - M: Square matrix\n",
    "\n",
    "    Returns:\n",
    "        - det_mod: Determinant modulo the product of primes\n",
    "    \"\"\"\n",
    "    for i in range(M.nrows()):\n",
    "        for j in range(M.ncols()):\n",
    "            assert M[i, j] in SR # the coefficients of the matrix M is any ring\n",
    "    n = M.nrows()\n",
    "    \n",
    "    # Step 1: Find the Hadamard bound C and set the necessary condition on it\n",
    "    C = max([abs(M[i, j]) for i in range(n) for j in range(n)])  \n",
    "    # Step 2: Find odd primes p1, ..., pk\n",
    "    Hadamard_bound = 2 * C^n * sqrt(n^n) #twice the Hadamard bound\n",
    "    primes = [p for p in range(2, ceil(Hadamard_bound)) if is_prime(p)]  \n",
    "    product_of_primes = prod(primes) # the product of primes\n",
    "    product_of_primes > Hadamard_bound #the product of primes is twice the Hadamard C\n",
    "    if len(primes)%2==0: # make sure the size of primes is odd\n",
    "        primes.append(next_prime(primes[-1])) # Add one more prime to satisfy the condition\n",
    "        product_of_primes = prod(primes) # Update the product of primes\n",
    "        \n",
    "    d = [mydet(Matrix(M).apply_map(lambda x: x % p)) for p in primes]  # Step 3: Compute determinants mod pi\n",
    "    \n",
    "    # Step 4: We use Chinese remainder theorem to obtain the solution of the systems obtained from step 3\n",
    "    det_mod = chinese_remainder_theorem(d, primes)  \n",
    "    if det_mod > product_of_primes / 2: # Step 5: compare the result obtained with our Hadamard bound\n",
    "        det_mod = det_mod - product_of_primes\n",
    "    else:\n",
    "         det_mod=det_mod\n",
    "    return det_mod\n",
    "\n"
   ]
  },
  {
   "cell_type": "markdown",
   "metadata": {},
   "source": [
    "<h1 style=\"color:blue\"><strong> Example 3"
   ]
  },
  {
   "cell_type": "code",
   "execution_count": 65,
   "metadata": {},
   "outputs": [
    {
     "name": "stdout",
     "output_type": "stream",
     "text": [
      "The result of the computation of dterminant using modular algorithm\n",
      "Determinant of M: -10\n",
      "CPU times: user 2 µs, sys: 0 ns, total: 2 µs\n",
      "Wall time: 5.25 µs\n"
     ]
    }
   ],
   "source": [
    "# For Example \n",
    "M = Matrix([[3, 1, -2], [2, -3, -1], [1, 3, 0]])\n",
    "det_mod = modular_algorithm_for_determinant(M)\n",
    "print(\"The result of the computation of dterminant using modular algorithm\")\n",
    "print(\"Determinant of M:\", det_mod)\n",
    "%time"
   ]
  },
  {
   "cell_type": "markdown",
   "metadata": {},
   "source": [
    "# Findings:\n"
   ]
  },
  {
   "cell_type": "markdown",
   "metadata": {},
   "source": [
    "* Modular computation algorithm is indeed a fast computation algorith because of it's reliance on division algorithm i.e. Guassian elimination method\n",
    "\n",
    "* when combined with minor method for determinants instead of GEM it takes longer time than usual\n",
    "\n",
    "* The algorithm is really beautiful but my issue with it is that, it never tell us how much should the product of     primes 'm' be greater than the Hadamard bound."
   ]
  },
  {
   "cell_type": "markdown",
   "metadata": {},
   "source": [
    "![purple-divider](https://user-images.githubusercontent.com/7065401/52071927-c1cd7100-2562-11e9-908a-dde91ba14e59.png)"
   ]
  },
  {
   "cell_type": "markdown",
   "metadata": {},
   "source": [
    "<h1 style=\"color:blue\"><strong> Samuelson Berkowitz algorithm"
   ]
  },
  {
   "cell_type": "markdown",
   "metadata": {},
   "source": [
    "Samuelson Berkowitz algorithm is a divison-free algorithm for\n",
    "obtaining the characteristics polynomial and the determinant of square matrices\n",
    "whose coefficients are in a commutative ring $\\mathcal{R}$ which is not an integral domain\n",
    "\n",
    "* Toeplitz matrix is a very useful tool in this algorithm, so we first define a function that calculate the Toeplitz matrix of any square matrix which we would like to obtain its determinant and characteristics polynomial\n",
    "\n",
    "* The advantage of Samuelson Berkowitz algorithm is that it can be used even when our domain of interest is not a field\n",
    "\n",
    "For more info on this method check this book by Przemysław Koprowski: [lcm](http://www.pkoprowski.eu/lcm/lcm.pdf)"
   ]
  },
  {
   "cell_type": "code",
   "execution_count": 66,
   "metadata": {},
   "outputs": [],
   "source": [
    "def toeplitz_matrix(M, k):\n",
    "    \n",
    "    \"\"\"\n",
    "    Compute the Toeplitz matrix of a square matrix.\n",
    "\n",
    "    Parameters:\n",
    "        - M: Square matrix\n",
    "\n",
    "    Returns:\n",
    "        - (n+2)x(n+1) Toeplitz matrix\n",
    "    \"\"\"\n",
    "    \n",
    "    # M_k is the kxk principal submatrix of M\n",
    "    M_k = M.submatrix(0, 0, k, k)\n",
    "    R_k = M[k, :k]  # Row vector below M_k\n",
    "    C_k = M[:k, k]  # Column vector to the right of M_k\n",
    "    m_kk = M[k, k]  # The element m_{k+1, k+1}\n",
    "    \n",
    "    # Initialize the Toeplitz matrix with -m_kk on the diagonal\n",
    "    T_k = matrix(SR, k+2, k+1, lambda i, j: -m_kk if i == j else 0)\n",
    "    \n",
    "    # The first sub-diagonal is set to 1\n",
    "    for i in [1, .., k+1]:\n",
    "        T_k[i, i-1] = 1\n",
    "    \n",
    "    # Calculate the upper diagonal elements in T_k\n",
    "    for i in [0, .., k]:  # loop over rows in T_k\n",
    "        for j in [i+1, .., k]:  # loop over columns above the diagonal\n",
    "            if j > i:\n",
    "                # Calculate M_k to the power (j-i-1)\n",
    "                if j-i-1 == 0:\n",
    "                    M_k_i = matrix.identity(k)  # (M_k)^0 is the identity matrix\n",
    "                else:\n",
    "                    M_k_i = M_k^(j-i-1)  # M_k raised to the power (j-i-1)\n",
    "                \n",
    "                # Calculate -R_k * M_k_i * C_k for the respective entry and ensure scalar output\n",
    "                tk = -R_k * M_k_i * vector(C_k)\n",
    "                T_k[i, j] = tk[0]  # Extract the scalar value from the 1x1 matrix/product\n",
    "                \n",
    "    return T_k\n",
    "\n"
   ]
  },
  {
   "cell_type": "code",
   "execution_count": 67,
   "metadata": {},
   "outputs": [],
   "source": [
    "def Samuelson_Berkowitz(M):\n",
    "    \"\"\"\n",
    "    Compute the Characteristics Polynomial and the determinant of a matrix using Samuelson Identity.\n",
    "    (determinant is the constant term in the characteristics polynomial)\n",
    "\n",
    "    Parameters:\n",
    "        - M: Square matrix with coefficients in any unital commutative ring R\n",
    "\n",
    "    Returns:\n",
    "        - Determinant and Characteristics Polynomial of a Square Matrix\n",
    "    \"\"\"\n",
    "    n = M.ncols()  # find the number of column of the matrix M\n",
    "    v = [-M[0][0], 1] #initialise column vector V with a value from M\n",
    "    V = matrix(SR, 2, 1, v)\n",
    "    v_vectors = []  #create a list\n",
    "    for k in [1, .., n-1]:\n",
    "        t_k = toeplitz_matrix(M, k)\n",
    "        V1 = t_k * V  # Multiply current Toeplitz matrix by current vector V    \n",
    "        # Update V to new V1\n",
    "        V = V1 \n",
    "        v_vectors.append(V)\n",
    "        tk_matrices = r\"T_{} = \".format(k) # This initializes tk_matrices as a string containing the prefix \"T_k\" \n",
    "    P.<x> = ZZ[]\n",
    "    S = list(vector(v_vectors[-1])) # this create a column vector using the toeplitz matrix\n",
    "    char_poly = P(S)   # create the characteristics \n",
    "    determinant = (-1)^n * S[0]  # the constant term of the polynomial\n",
    "    return determinant, char_poly\n",
    "\n"
   ]
  },
  {
   "cell_type": "markdown",
   "metadata": {},
   "source": [
    "<h1 style=\"color:blue\"><strong> Example 4"
   ]
  },
  {
   "cell_type": "code",
   "execution_count": 68,
   "metadata": {},
   "outputs": [
    {
     "data": {
      "text/html": [
       "<html>\\(\\displaystyle \\verb|The|\\verb| |\\verb|determinant:| 1\\)</html>"
      ],
      "text/latex": [
       "$\\displaystyle \\verb|The|\\verb| |\\verb|determinant:| 1$"
      ],
      "text/plain": [
       "'The determinant:' 1"
      ]
     },
     "metadata": {},
     "output_type": "display_data"
    },
    {
     "data": {
      "text/html": [
       "<html>\\(\\displaystyle Characteristics Polynomial:  x^{3} - 3x^{2} + 3x - 1\\)</html>"
      ],
      "text/latex": [
       "$\\displaystyle Characteristics Polynomial:  x^{3} - 3x^{2} + 3x - 1$"
      ],
      "text/plain": [
       "Characteristics Polynomial:  x^3 - 3*x^2 + 3*x - 1"
      ]
     },
     "metadata": {},
     "output_type": "display_data"
    }
   ],
   "source": [
    "# Define the matrix\n",
    "M = matrix(ZZ, [[1, 0, 0], [0, 1, 0], [0, 0, 1]])\n",
    "determinant, char_poly = Samuelson_Berkowitz(M)\n",
    "show('The determinant:', determinant)\n",
    "ola = r\"Characteristics Polynomial: \"\n",
    "show(LatexExpr(ola), char_poly)"
   ]
  },
  {
   "cell_type": "markdown",
   "metadata": {},
   "source": [
    "<h1 style=\"color:blue\"><strong> Example 5"
   ]
  },
  {
   "cell_type": "code",
   "execution_count": 69,
   "metadata": {},
   "outputs": [
    {
     "data": {
      "text/html": [
       "<html>\\(\\displaystyle \\verb|The|\\verb| |\\verb|determinant:| 180\\)</html>"
      ],
      "text/latex": [
       "$\\displaystyle \\verb|The|\\verb| |\\verb|determinant:| 180$"
      ],
      "text/plain": [
       "'The determinant:' 180"
      ]
     },
     "metadata": {},
     "output_type": "display_data"
    },
    {
     "data": {
      "text/html": [
       "<html>\\(\\displaystyle Characteristics Polynomial:  x^{3} + 11x^{2} + 2x - 180\\)</html>"
      ],
      "text/latex": [
       "$\\displaystyle Characteristics Polynomial:  x^{3} + 11x^{2} + 2x - 180$"
      ],
      "text/plain": [
       "Characteristics Polynomial:  x^3 + 11*x^2 + 2*x - 180"
      ]
     },
     "metadata": {},
     "output_type": "display_data"
    }
   ],
   "source": [
    "M=matrix(ZZ, [[2,1,3],[5,-7,1],[3,0,-6]])\n",
    "determinant, char_poly = Samuelson_Berkowitz(M)\n",
    "show('The determinant:', determinant)\n",
    "ola = r\"Characteristics Polynomial: \"\n",
    "show(LatexExpr(ola), char_poly)"
   ]
  },
  {
   "cell_type": "markdown",
   "metadata": {},
   "source": [
    "![green-divider](https://user-images.githubusercontent.com/7065401/52071924-c003ad80-2562-11e9-8297-1c6595f8a7ff.png)\n"
   ]
  },
  {
   "cell_type": "markdown",
   "metadata": {},
   "source": [
    "<h1 style=\"color:blue\"><strong> Comparing our result with the result of the in-buit function"
   ]
  },
  {
   "cell_type": "code",
   "execution_count": 74,
   "metadata": {},
   "outputs": [
    {
     "data": {
      "text/plain": [
       "True"
      ]
     },
     "execution_count": 74,
     "metadata": {},
     "output_type": "execute_result"
    }
   ],
   "source": [
    "char_poly == M.charpoly()"
   ]
  },
  {
   "cell_type": "code",
   "execution_count": 75,
   "metadata": {
    "scrolled": true
   },
   "outputs": [
    {
     "data": {
      "text/plain": [
       "180 == 180"
      ]
     },
     "execution_count": 75,
     "metadata": {},
     "output_type": "execute_result"
    }
   ],
   "source": [
    "determinant == M.det()"
   ]
  },
  {
   "cell_type": "markdown",
   "metadata": {},
   "source": [
    "# Findings:\n",
    "\n",
    "* The Samuelson-Berkowitz algorithm works well with matrices with coefficients in any unital commutative ring $\\mathcal{R}$.\n",
    "\n",
    "* It's slow just as was explained in the literature review\n",
    "\n",
    "* It relies on the Samuelson Identity\n",
    "\n",
    "* The Toeplitz matrix makes the computation very easy\n"
   ]
  },
  {
   "cell_type": "markdown",
   "metadata": {},
   "source": [
    "<h1 style=\"color:blue\"><strong> Thank you so much"
   ]
  },
  {
   "cell_type": "markdown",
   "metadata": {},
   "source": [
    "![purple-divider](https://user-images.githubusercontent.com/7065401/52071927-c1cd7100-2562-11e9-908a-dde91ba14e59.png)"
   ]
  },
  {
   "cell_type": "code",
   "execution_count": null,
   "metadata": {},
   "outputs": [],
   "source": []
  }
 ],
 "metadata": {
  "kernelspec": {
   "display_name": "SageMath 10.0",
   "language": "sage",
   "name": "sagemath-10.0"
  },
  "language_info": {
   "codemirror_mode": {
    "name": "ipython",
    "version": 3
   },
   "file_extension": ".py",
   "mimetype": "text/x-python",
   "name": "python",
   "nbconvert_exporter": "python",
   "pygments_lexer": "ipython3",
   "version": "3.11.1"
  }
 },
 "nbformat": 4,
 "nbformat_minor": 4
}
