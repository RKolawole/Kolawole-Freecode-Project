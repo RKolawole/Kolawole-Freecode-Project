{
 "cells": [
  {
   "cell_type": "code",
   "execution_count": null,
   "metadata": {
    "id": "QwsKN0Te4_i4"
   },
   "outputs": [],
   "source": [
    "import numpy as np"
   ]
  },
  {
   "cell_type": "code",
   "execution_count": null,
   "metadata": {
    "id": "6phvEd_65JzS"
   },
   "outputs": [],
   "source": [
    "def calculate(A):\n",
    "      \"\"\"\n",
    "      Given any list contaning 9 elements:\n",
    "      This function uses Numpy to output the mean, variance,\n",
    "      standard deviation, max, min, and sum of the rows, columns,\n",
    "      and elements in a 3 x 3 matrix.\n",
    "\n",
    "      -INPUT: A list of elements\n",
    "\n",
    "      -OUTPUT: mean, variance,standard deviation, max, min, and sum\n",
    "      of rows, for columns and elmennts in the matrix\n",
    "\n",
    "      \"\"\"\n",
    "      if len(A) != 9:\n",
    "          return \"Error, List must contain nine numbers\"\n",
    "      else:\n",
    "          B= np.array(A).reshape(3,3) # create a matrix of size 3x3 from the list A\n",
    "          a1=B.mean(axis=0); a2 = B.mean(axis=1); fla=B.mean() # calculate the mean in the three categories\n",
    "          v1=B.var(axis=0); v2 = B.var(axis=1); vfla=B.var()  # calculate the variance in the three categories\n",
    "          M1=B.max(axis=0); M2 = B.max(axis=1); Mfla=B.max()  # calculate the maximum in the three categories\n",
    "          m1=B.min(axis=0); m2 = B.min(axis=1); mfla=B.min()  # calculate the minimum in the three categories\n",
    "          s1=B.sum(axis=0); s2 = B.sum(axis=1); sfla=B.sum() # calculate the sum in the three categories\n",
    "          mean= [list(a1), list(a2), fla] # list of mean in the three cateogories\n",
    "          var= [list(v1), list(v2), vfla] # list of variance in the three cateogories\n",
    "          max= [list(M1), list(M2), Mfla] # list of maximum in the three cateogories\n",
    "          min= [list(m1), list(m2), mfla] # list of minimum in the three cateogories\n",
    "          Sum= [list(s1), list(s2), sfla] # list of sum in the three cateogories\n",
    "          print('Mean, Variance, Maximum, Minimum and Sum in the three Categories')\n",
    "          result={'Mean':mean, 'Variance':var, 'Maximum': max, 'Minimum': min, 'Sum': Sum}\n",
    "          return result\n",
    "\n"
   ]
  },
  {
   "cell_type": "code",
   "execution_count": null,
   "metadata": {
    "colab": {
     "base_uri": "https://localhost:8080/"
    },
    "executionInfo": {
     "elapsed": 268,
     "status": "ok",
     "timestamp": 1715503401574,
     "user": {
      "displayName": "Razak Olamide KOLAWOLE",
      "userId": "01533261027001593289"
     },
     "user_tz": -120
    },
    "id": "jVKrCUOf5P-U",
    "outputId": "a33662ca-61bc-4b01-9a62-1c25fec9de47"
   },
   "outputs": [
    {
     "name": "stdout",
     "output_type": "stream",
     "text": [
      "Mean, Variance, Maximum, Minimum and Sum in the three Categories\n"
     ]
    },
    {
     "data": {
      "text/plain": [
       "{'Mean': [[4.0, 5.0, 6.0], [2.0, 5.0, 8.0], 5.0],\n",
       " 'Variance': [[6.0, 6.0, 6.0],\n",
       "  [0.6666666666666666, 0.6666666666666666, 0.6666666666666666],\n",
       "  6.666666666666667],\n",
       " 'Maximum': [[7, 8, 9], [3, 6, 9], 9],\n",
       " 'Minimum': [[1, 2, 3], [1, 4, 7], 1],\n",
       " 'Sum': [[12, 15, 18], [6, 15, 24], 45]}"
      ]
     },
     "execution_count": 13,
     "metadata": {},
     "output_type": "execute_result"
    }
   ],
   "source": [
    "# For example\n",
    "A=[1,2,3,4,5,6,7,8,9]\n",
    "calculate(A)"
   ]
  },
  {
   "cell_type": "code",
   "execution_count": null,
   "metadata": {
    "id": "jPMBjw4r5U3j"
   },
   "outputs": [],
   "source": []
  },
  {
   "cell_type": "code",
   "execution_count": null,
   "metadata": {
    "id": "EKkxTnBX_Ng2"
   },
   "outputs": [],
   "source": []
  },
  {
   "cell_type": "code",
   "execution_count": null,
   "metadata": {
    "id": "gv_Pe6E2_N8N"
   },
   "outputs": [],
   "source": []
  }
 ],
 "metadata": {
  "colab": {
   "authorship_tag": "ABX9TyMkJacfxYUEPJMF1Q1eBq+j",
   "provenance": [],
   "toc_visible": true
  },
  "kernelspec": {
   "display_name": "Python 3 (ipykernel)",
   "language": "python",
   "name": "python3"
  },
  "language_info": {
   "name": "python"
  }
 },
 "nbformat": 4,
 "nbformat_minor": 1
}
